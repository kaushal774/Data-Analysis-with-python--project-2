{
 "cells": [
  {
   "cell_type": "code",
   "execution_count": 70,
   "id": "644162e8-633f-4f95-b5a6-bf6bb3cecccb",
   "metadata": {},
   "outputs": [],
   "source": [
    "import json\n",
    "import time\n",
    "sales='  '\n",
    "\n",
    "fd=open('dhoni.jason','r')\n",
    "record=fd.read()\n",
    "fd.close()\n",
    "record=json.loads(record)#-used to  convert string to dictionary but keys remains in string format so we have to set code according to that\n",
    "\n"
   ]
  },
  {
   "cell_type": "code",
   "execution_count": 72,
   "id": "34485205-564c-4ee8-9188-f6eb59f1614e",
   "metadata": {},
   "outputs": [
    {
     "name": "stdout",
     "output_type": "stream",
     "text": [
      "{'1001': {'name': '5 star', 'price': '10', 'qn': 107}, '1002': {'name': 'barone', 'price': '20', 'qn': 100}, '1003': {'name': 'candy', 'price': '2', 'qn': 400}, '1004': {'name': 'choco cake', 'price': '550', 'qn': 0}, '1005': {'name': 'blue cake', 'price': '650', 'qn': 0}}\n"
     ]
    }
   ],
   "source": [
    "print(record)\n"
   ]
  },
  {
   "cell_type": "code",
   "execution_count": 74,
   "id": "30e8072b-b91d-4ee6-a2ec-f38272e8b2e5",
   "metadata": {},
   "outputs": [
    {
     "name": "stdout",
     "output_type": "stream",
     "text": [
      "------------------------MENU---------------------------\n",
      "\n",
      "1001 : 5 star | 10 | 107\n",
      "1002 : barone | 20 | 100\n",
      "1003 : candy | 2 | 400\n",
      "1004 : choco cake | 550 | 0\n",
      "1005 : blue cake | 650 | 0\n"
     ]
    }
   ],
   "source": [
    "\n",
    "print('------------------------MENU---------------------------\\n')\n",
    "for key in record.keys():\n",
    "    print(key,':',record[key]['name'],'|',record[key]['price'],'|',record[key]['qn'])"
   ]
  },
  {
   "cell_type": "code",
   "execution_count": null,
   "id": "7d0376c2-973b-449d-878b-d6df4efc7dc0",
   "metadata": {
    "jp-MarkdownHeadingCollapsed": true
   },
   "outputs": [
    {
     "name": "stdin",
     "output_type": "stream",
     "text": [
      "name: kaushal\n",
      "phone: 8955232865\n",
      "mail: kaush\n"
     ]
    }
   ],
   "source": [
    "## print('-------------------------BILL------------------------')\n",
    "name=str(input('name:'))\n",
    "phone=str(input('phone:'))\n",
    "mail=str(input('mail:'))\n",
    "id =input('enter product id:')\n",
    "n=int(input('enter quantity:'))\n",
    "if(record[id]['qn']>=n):\n",
    "    \n",
    "    print('name:          ',record[id]['name'])\n",
    "    print('price:         ',record[id]['price'])\n",
    "    print('quantity:      ', n)\n",
    "    print('--------------------------------')     \n",
    "    print('billing amount ',int(record[id]['price'])*n)\n",
    "    record[id]['qn']=record[id]['qn']-n\n",
    "    sales='1'+\",\"+name+\",\"+phone+\",\"+mail+','+id+','+record[id]['name']+','+str(n)+','+str(n*int(record[id]['price']))+','+time.ctime()+'\\n'\n",
    "    \n",
    "\n",
    "else:\n",
    "    print('sorry we do not have enough quamtity')\n",
    "    print('we have only', record[id]['qn'])\n",
    "    ch=input('press yes or no:')\n",
    "    if(ch=='yes'):\n",
    "        print('name:          ',record[id]['name'])\n",
    "        print('price:         ',record[id]['price'])\n",
    "        print('quantity:      ', n)\n",
    "        print('--------------------------------')     \n",
    "        print('billing amount ',int(record[id]['price'])*record[id]['qn'])\n",
    "    \n",
    "        sales='1'+\",\"+name+\",\"+phone+\",\"+mail+','+id+','+record[id]['name']+','+str(record[id]['qn'])+','+str(record[id]['qn']*int(record[id]['price']))+','+time.ctime()+'\\n'\n",
    "        record[id]['qn']=0\n",
    "\n",
    "    else:\n",
    "        print('thnk you')\n",
    "        \n",
    "fd=open('sale.txt','a')\n",
    "fd.write(sales)\n",
    "fd.close()    \n",
    "          \n",
    "\n",
    "\n",
    "k=json.dumps(record)\n",
    "fdb=open('dhoni.jason','w')\n",
    "fdb.write(k +'\\n')\n",
    "\n",
    "fdb.close()\n",
    "    \n",
    "\n",
    "\n",
    "    \n",
    "    "
   ]
  },
  {
   "cell_type": "code",
   "execution_count": 58,
   "id": "8c3308e0-3343-4bed-93b8-ce19923b1b8a",
   "metadata": {},
   "outputs": [],
   "source": [
    "fd=open('sale.txt','a')\n",
    "fd.write(sales)\n",
    "fd.close()\n",
    "       "
   ]
  },
  {
   "cell_type": "code",
   "execution_count": 82,
   "id": "0a4498ec-087d-4df2-8253-dbf30c7ddcda",
   "metadata": {},
   "outputs": [
    {
     "data": {
      "text/plain": [
       "'1,4,5,4,1002,barone,2,40,Tue Sep 17 14:05:29 2024\\n'"
      ]
     },
     "execution_count": 82,
     "metadata": {},
     "output_type": "execute_result"
    }
   ],
   "source": [
    "sales"
   ]
  },
  {
   "cell_type": "code",
   "execution_count": null,
   "id": "a87c9320-5f59-4d97-b723-44ad0ba55a97",
   "metadata": {},
   "outputs": [],
   "source": [
    "sales"
   ]
  },
  {
   "cell_type": "code",
   "execution_count": null,
   "id": "71533f71-1ea8-4bb2-aced-a56d700a9cff",
   "metadata": {},
   "outputs": [],
   "source": [
    "sales"
   ]
  },
  {
   "cell_type": "code",
   "execution_count": null,
   "id": "70a16e31-2651-49a0-80e0-f9c8ce054cdc",
   "metadata": {},
   "outputs": [],
   "source": []
  }
 ],
 "metadata": {
  "kernelspec": {
   "display_name": "Python 3 (ipykernel)",
   "language": "python",
   "name": "python3"
  },
  "language_info": {
   "codemirror_mode": {
    "name": "ipython",
    "version": 3
   },
   "file_extension": ".py",
   "mimetype": "text/x-python",
   "name": "python",
   "nbconvert_exporter": "python",
   "pygments_lexer": "ipython3",
   "version": "3.12.4"
  }
 },
 "nbformat": 4,
 "nbformat_minor": 5
}
